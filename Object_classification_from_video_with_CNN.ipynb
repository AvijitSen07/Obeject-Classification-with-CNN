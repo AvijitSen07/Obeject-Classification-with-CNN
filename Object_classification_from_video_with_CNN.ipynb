{
  "nbformat": 4,
  "nbformat_minor": 0,
  "metadata": {
    "colab": {
      "provenance": []
    },
    "kernelspec": {
      "name": "python3",
      "display_name": "Python 3"
    },
    "language_info": {
      "name": "python"
    }
  },
  "cells": [
    {
      "cell_type": "markdown",
      "source": [
        "**Import all the Python Libraries**"
      ],
      "metadata": {
        "id": "HJAhH0-w5-Gn"
      }
    },
    {
      "cell_type": "code",
      "source": [
        "from tensorflow.keras.preprocessing.image import ImageDataGenerator\n",
        "from tensorflow.keras.preprocessing import image\n",
        "from tensorflow.keras.optimizers import RMSprop\n",
        "from google.colab import drive\n",
        "import matplotlib.pyplot as plt\n",
        "import tensorflow as tf\n",
        "import numpy as np\n",
        "import os\n",
        "import cv2\n",
        "import glob"
      ],
      "metadata": {
        "id": "ANNdxH2Is8pQ"
      },
      "execution_count": 1,
      "outputs": []
    },
    {
      "cell_type": "markdown",
      "source": [
        "**Connecting the Google Drive**"
      ],
      "metadata": {
        "id": "32nUScXi6vOF"
      }
    },
    {
      "cell_type": "code",
      "execution_count": 2,
      "metadata": {
        "colab": {
          "base_uri": "https://localhost:8080/"
        },
        "id": "HLTDc27LsuBX",
        "outputId": "117e39af-0ad6-47f8-b9ba-da4399f3a65d"
      },
      "outputs": [
        {
          "output_type": "stream",
          "name": "stdout",
          "text": [
            "Mounted at /content/drive\n"
          ]
        }
      ],
      "source": [
        "drive.mount('/content/drive')"
      ]
    },
    {
      "cell_type": "code",
      "source": [
        "path = glob.glob(\"/content/drive/MyDrive/Project_Classification/Training/Swagata/*.jpg\")\n",
        "#for file in path:\n",
        "#  print(file)"
      ],
      "metadata": {
        "id": "gBGN-ny9sxfP"
      },
      "execution_count": null,
      "outputs": []
    },
    {
      "cell_type": "code",
      "source": [
        "train = ImageDataGenerator(rescale= 1/255)\n",
        "validation = ImageDataGenerator(rescale= 1/255)\n",
        "\n",
        "train_dataset = train.flow_from_directory('/content/drive/MyDrive/Project_Classification/Training/',target_size= (200,200),batch_size= 3,class_mode= 'binary')\n",
        "\n",
        "#img=image.load_img(\"/content/drive/MyDrive/Project_Classification/Training/Avijit/13.jpg\")\n",
        "#plt.imshow(img)"
      ],
      "metadata": {
        "id": "euMTwrIatWBr"
      },
      "execution_count": null,
      "outputs": []
    },
    {
      "cell_type": "code",
      "source": [
        "#train_dataset.class_indices"
      ],
      "metadata": {
        "id": "XqqekNIJtdJb"
      },
      "execution_count": null,
      "outputs": []
    },
    {
      "cell_type": "code",
      "source": [
        "#train_dataset.classes"
      ],
      "metadata": {
        "id": "g-krPpWLtdOS"
      },
      "execution_count": null,
      "outputs": []
    },
    {
      "cell_type": "markdown",
      "source": [
        "**Algoritham of CNN**"
      ],
      "metadata": {
        "id": "jwuZs4Nm64Bl"
      }
    },
    {
      "cell_type": "code",
      "source": [
        "model = tf.keras.models.Sequential([ tf.keras.layers.Conv2D(16,(3,3),activation='relu',input_shape=(200,200,3)),\n",
        "                                      tf.keras.layers.MaxPool2D(2,2),\n",
        "                                      #\n",
        "                                      tf.keras.layers.Conv2D(32,(3,3),\n",
        "                                      activation='relu'),\n",
        "                                      tf.keras.layers.MaxPool2D(2,2),\n",
        "                                      #\n",
        "                                      tf.keras.layers.Conv2D(62,(3,3),\n",
        "                                      activation='relu'),\n",
        "                                      tf.keras.layers.MaxPool2D(2,2),\n",
        "                                      #\n",
        "                                      tf.keras.layers.Flatten(),\n",
        "                                      #\n",
        "                                      tf.keras.layers.Dense(512,\n",
        "                                      activation='relu'),\n",
        "                                      #\n",
        "                                      tf.keras.layers.Dense(1,activation='sigmoid')\n",
        "                                    ])\n",
        "model.compile(loss = 'binary_crossentropy',optimizer = RMSprop(lr=0.001),metrics = ['accuracy'])\n",
        "\n",
        "model_fit = model.fit(train_dataset, steps_per_epoch = 3,epochs = 30,validation_data = validation_dataset)"
      ],
      "metadata": {
        "id": "PmOVLCgGtdQz"
      },
      "execution_count": null,
      "outputs": []
    },
    {
      "cell_type": "markdown",
      "source": [
        "**Extracting frames from video**"
      ],
      "metadata": {
        "id": "FFMLDUD-7OnY"
      }
    },
    {
      "cell_type": "code",
      "source": [
        "# Already a merged video present in the Google Drive\n",
        "vid = cv2.VideoCapture(\"/content/drive/MyDrive/Project_Classification/video1_FipjXWSF.mp4\")\n",
        "try:\n",
        " if not os.path.exists('/content/drive/MyDrive/Project_Classification/Testing_2'):\n",
        "    os.makedirs('/content/drive/MyDrive/Project_Classification/Testing_2')\n",
        "    # If not created then raise error\n",
        "except OSError:\n",
        "  print('Error: Creating directory of data')\n",
        "# Frame\n",
        "currentframe = 0\n",
        "while (True):\n",
        "  # Reading from frame\n",
        "  success, frame = vid.read()\n",
        "  if success:\n",
        "      # Continue creating images until video remains\n",
        "      name = '/content/drive/MyDrive/Project_Classification/Testing_2/' + str(currentframe) + '.jpg'\n",
        "      # print('Creating...' + name)\n",
        "      # Writing the extracted images\n",
        "      cv2.imwrite(name, frame)\n",
        "      # Increasing counter so that it will\n",
        "      # Show how many frames are created\n",
        "      currentframe += 1\n",
        "  else:\n",
        "      break\n",
        "# Release all space and windows once done\n",
        "vid.release()\n",
        "cv2.destroyAllWindows()"
      ],
      "metadata": {
        "id": "gHYs3NjRtdTS"
      },
      "execution_count": null,
      "outputs": []
    },
    {
      "cell_type": "markdown",
      "source": [
        "**Classification**"
      ],
      "metadata": {
        "id": "vPIOSuKX7vdb"
      }
    },
    {
      "cell_type": "code",
      "source": [
        "dir_path = '/content/drive/MyDrive/Project_Classification/Testing_2'\n",
        "for i in os.listdir(dir_path):\n",
        " #print(i)\n",
        " img2 = image.load_img(dir_path+'//'+ i,target_size=(200, 200))\n",
        " plt.imshow(img2)\n",
        " plt.show()\n",
        " X = image.img_to_array(img2)\n",
        " X = np.expand_dims(X,axis=0)\n",
        " image2 = np.vstack([X])\n",
        " val = model.predict(image2)\n",
        " if val == 1:\n",
        "  # Object number 1\n",
        "  print(\"Swagata\")\n",
        " if val==0:\n",
        "  # Object number 2\n",
        "  print(\"Avijit\")"
      ],
      "metadata": {
        "id": "Wdeh5O3dtdVy"
      },
      "execution_count": null,
      "outputs": []
    }
  ]
}